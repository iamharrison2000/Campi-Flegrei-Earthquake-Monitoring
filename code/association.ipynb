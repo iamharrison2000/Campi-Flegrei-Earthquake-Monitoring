{
 "cells": [
  {
   "cell_type": "code",
   "execution_count": 1,
   "id": "b8dfea97-95c7-49f2-b884-dad474691235",
   "metadata": {},
   "outputs": [],
   "source": [
    "import pandas as pd\n",
    "from datetime import datetime, timedelta\n",
    "from gamma import BayesianGaussianMixture, GaussianMixture\n",
    "from gamma.utils import convert_picks_csv, association, from_seconds, initialize_eikonal\n",
    "import numpy as np\n",
    "from sklearn.cluster import DBSCAN \n",
    "from datetime import datetime, timedelta\n",
    "import os\n",
    "import json\n",
    "import pickle\n",
    "from pyproj import Proj\n",
    "from tqdm import tqdm\n",
    "import time\n",
    "import glob\n",
    "import matplotlib.pyplot as plt"
   ]
  },
  {
   "cell_type": "code",
   "execution_count": 2,
   "id": "36f1aae8-8d43-4232-bed3-f454e2d0eb60",
   "metadata": {},
   "outputs": [],
   "source": [
    "picks = pd.read_csv('./phases_new_run/2345_picks_250320.csv')\n",
    "picks.phase_index = np.arange(len(picks))\n",
    "picks.index = np.arange(len(picks))\n",
    "picks['phase_time'] = pd.to_datetime(picks['phase_time']).dt.tz_convert('utc')\n",
    "picks.sort_values(by='phase_time', inplace=True)\n",
    "\n",
    "selected = picks.station=='V0106'\n",
    "picks.loc[selected, 'station'] = 'CLAC'\n",
    "picks.loc[selected, 'station_id'] = '2I.CLAC..HH'\n",
    "picks.loc[picks.station=='CAWE', 'station_id'] = 'IV.CAWE..EH'"
   ]
  },
  {
   "cell_type": "code",
   "execution_count": 3,
   "id": "56112347-031b-4dcd-8cf8-9041c8fddc49",
   "metadata": {},
   "outputs": [],
   "source": [
    "picks[\"id\"] = picks[\"station_id\"]\n",
    "picks[\"timestamp\"] = picks[\"phase_time\"]\n",
    "# picks[\"amp\"] = picks['abs_max']\n",
    "picks[\"type\"] = picks[\"phase_type\"]\n",
    "picks[\"prob\"] = picks[\"phase_score\"]\n",
    "picks_count_bass = picks.station_id.value_counts()\n",
    "picks_count_bass"
   ]
  },
  {
   "cell_type": "code",
   "execution_count": 4,
   "id": "df69c524-6aa9-4a72-a879-a23709ef3b54",
   "metadata": {
    "scrolled": true
   },
   "outputs": [],
   "source": [
    "config = {'center': (14.13, 40.81),  \n",
    "        'xlim_degree': [14.0, 14.2], \n",
    "        'ylim_degree': [40.7, 40.9], \n",
    "        'degree2km': 111.19492474777779, \n",
    "        'starttime': datetime(2022, 1, 11, 0, 0), \n",
    "        'endtime':   datetime(2025, 3, 20, 0, 0)}\n",
    "stations = pd.read_json('./stations.json')\n",
    "stations = stations.transpose()\n",
    "stations['id'] = stations.index\n",
    "proj = Proj(f\"+proj=sterea +lon_0={config['center'][0]} +lat_0={config['center'][1]} +units=km\")\n",
    "stations[[\"x(km)\", \"y(km)\"]] = stations.apply(lambda x: pd.Series(proj(longitude=x.longitude, latitude=x.latitude)), axis=1)\n",
    "stations[\"z(km)\"] = stations[\"elevation(m)\"].apply(lambda x: -x/1e3)\n",
    "stations['component'] = [['E', 'N', 'Z']] * len(stations)\n",
    "stations"
   ]
  },
  {
   "cell_type": "code",
   "execution_count": 5,
   "id": "6558bc42-c42a-4aba-9c8e-dc9b70408a3a",
   "metadata": {},
   "outputs": [],
   "source": [
    "### setting GMMA configs\n",
    "config[\"use_dbscan\"] = True\n",
    "config[\"use_amplitude\"] = False\n",
    "config[\"method\"] = \"BGMM\"  \n",
    "if config[\"method\"] == \"BGMM\": ## BayesianGaussianMixture\n",
    "    config[\"oversample_factor\"] = 5\n",
    "if config[\"method\"] == \"GMM\": ## GaussianMixture\n",
    "    config[\"oversample_factor\"] = 1\n",
    "\n",
    "config[\"dims\"] = ['x(km)', 'y(km)', 'z(km)']\n",
    "config[\"x(km)\"] = (np.array(config[\"xlim_degree\"])-np.array(config[\"center\"][0]))*config[\"degree2km\"]*np.cos(np.deg2rad(config[\"center\"][1]))\n",
    "config[\"y(km)\"] = (np.array(config[\"ylim_degree\"])-np.array(config[\"center\"][1]))*config[\"degree2km\"]\n",
    "config[\"z(km)\"] = (0, 20)\n",
    "config[\"bfgs_bounds\"] = (\n",
    "    (config[\"x(km)\"][0] - 1, config[\"x(km)\"][1] + 1),  # x\n",
    "    (config[\"y(km)\"][0] - 1, config[\"y(km)\"][1] + 1),  # y\n",
    "    (config[\"z(km)\"][0], config[\"z(km)\"][1] + 1),  # z\n",
    "    (None, None),  # t\n",
    ")\n",
    "\n",
    "# DBSCAN\n",
    "config[\"dbscan_eps\"] = 5 #s\n",
    "config[\"dbscan_min_samples\"] = 3\n",
    "\n",
    "zz = [   0,  0.5,  1.0,  1.5,  2.0,  3.0]\n",
    "vp = [1.81, 2.33, 2.71, 3.76, 3.89, 4.51]\n",
    "vs = [1.02, 1.02, 1.46, 2.21, 2.49, 2.96]\n",
    "\n",
    "# vp_vs_ratio = 1.73\n",
    "h = 0.2\n",
    "vel = {\"z\": zz, \"p\": vp, \"s\": vs}\n",
    "config[\"eikonal\"] = {\"vel\": vel, \"h\": h, \"xlim\": config[\"x(km)\"], \"ylim\": config[\"y(km)\"], \"zlim\": config[\"z(km)\"]}\n",
    "\n",
    "# filtering\n",
    "config[\"min_picks_per_eq\"] = 6\n",
    "config[\"min_p_picks_per_eq\"] = 0\n",
    "config[\"min_s_picks_per_eq\"] = 0\n",
    "config[\"max_sigma11\"] = 1.0  # s\n",
    "config[\"max_sigma22\"] = 1.0  # log10(m/s)\n",
    "config[\"max_sigma12\"] = 1.0  # covariance\n",
    "\n",
    "## filter picks without amplitude measurements\n",
    "if config[\"use_amplitude\"]:\n",
    "    picks = picks[picks[\"phase_score\"] != -1]\n",
    "\n",
    "for k, v in config.items():\n",
    "    print(f\"{k}: {v}\")"
   ]
  },
  {
   "cell_type": "code",
   "execution_count": 6,
   "id": "5d573989-a2a8-4b80-a899-5daa333882a0",
   "metadata": {
    "scrolled": true
   },
   "outputs": [],
   "source": [
    "begin_time = time.time()\n",
    "event_idx0 = 0 ## current earthquake index\n",
    "assignments = []\n",
    "catalogs, assignments = association(picks, stations, config, event_idx0, config[\"method\"])\n",
    "event_idx0 += len(catalogs)\n",
    "end_time = time.time()\n",
    "print(f\"Total time: {end_time-begin_time:.2f} s\")"
   ]
  },
  {
   "cell_type": "code",
   "execution_count": 9,
   "id": "c88a4134-4f0f-4382-a41c-392b5fe58aec",
   "metadata": {},
   "outputs": [],
   "source": [
    "## create catalog\n",
    "catalogs = pd.DataFrame(catalogs, columns=[\"time\"]+config[\"dims\"]+[\"magnitude\", \"sigma_time\", \"sigma_amp\", \"cov_time_amp\",  \"event_index\", \"gamma_score\"])\n",
    "catalogs[[\"longitude\",\"latitude\"]] = catalogs.apply(lambda x: pd.Series(proj(longitude=x[\"x(km)\"], latitude=x[\"y(km)\"], inverse=True)), axis=1)\n",
    "catalogs[\"depth(m)\"] = catalogs[\"z(km)\"].apply(lambda x: x*1e3)\n",
    "catalogs[\"magnitude\"] = [0]*len(catalogs)\n",
    "catalogs.sort_values('time')"
   ]
  },
  {
   "cell_type": "code",
   "execution_count": 11,
   "id": "1a0b98ff-d590-405c-afdf-9e8a3489cc7a",
   "metadata": {},
   "outputs": [],
   "source": [
    "catalog_pth = './gamma_catalog_0320.csv'\n",
    "pick_pth = './gamma_pick_0320.csv'\n",
    "with open(catalog_pth, 'w') as fp:\n",
    "    catalogs.to_csv(fp, index=False, \n",
    "                    float_format=\"%.3f\",\n",
    "                    date_format='%Y-%m-%dT%H:%M:%S.%f',\n",
    "                    columns=[\"time\", \"magnitude\", \"longitude\", \"latitude\", \"depth(m)\", \"sigma_time\", \"sigma_amp\", \"cov_time_amp\", \"event_index\", \"gamma_score\"])\n",
    "# add assignment to picks\n",
    "assignments = pd.DataFrame(assignments, columns=[\"pick_index\", \"event_index\", \"gamma_score\"])\n",
    "pick = picks.join(assignments.set_index(\"pick_index\")).fillna(-1).astype({'event_index': int})\n",
    "pick = pick[pick.event_index!=-1]\n",
    "with open(pick_pth, 'w') as fp:\n",
    "    pick.to_csv(fp, index=False, \n",
    "                date_format='%Y-%m-%dT%H:%M:%S.%f',\n",
    "                columns=[\"station_id\", \"phase_time\", \"phase_type\", \"phase_score\", \"event_index\", \"gamma_score\"])"
   ]
  }
 ],
 "metadata": {
  "kernelspec": {
   "display_name": "torch",
   "language": "python",
   "name": "torch"
  },
  "language_info": {
   "codemirror_mode": {
    "name": "ipython",
    "version": 3
   },
   "file_extension": ".py",
   "mimetype": "text/x-python",
   "name": "python",
   "nbconvert_exporter": "python",
   "pygments_lexer": "ipython3",
   "version": "3.10.15"
  }
 },
 "nbformat": 4,
 "nbformat_minor": 5
}
